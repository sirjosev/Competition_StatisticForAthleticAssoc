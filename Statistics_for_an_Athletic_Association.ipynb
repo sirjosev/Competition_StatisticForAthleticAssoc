{
  "cells": [
    {
      "cell_type": "markdown",
      "metadata": {
        "id": "QHZbCzFLtNJf"
      },
      "source": [
        "# Statistics for an Athletic Association 🏅\n",
        "## Problem Description\n",
        "You are the \"computer expert\" of a local Athletic Association (C.A.A.).  Many teams of runners come to compete.  Each time you get a string of all race results of every team who has run. [link text](https://github.com/sirjosev/Competition_StatisticForAthleticAssoc/blob/master/Question.pdf)\n",
        "\n",
        "\n",
        "For instance, a team of 5 runners might have their results represented as:\n",
        "\n",
        "`\"01|15|59, 1|47|16, 01|17|20, 1|32|34, 2|03|17\"`\n",
        "\n",
        "(Note: The example in the problem description \"01/15/59, 1/47/6, 01/17/20, 1/32 34, 2/3/17\"  uses '/' and has some inconsistent formatting for single-digit numbers and spacing. The test cases use '|' and consistent formatting, which this solution will follow.)\n",
        "\n",
        "Each part of this string represents an individual runner's time in the format `h|m|s` or `hh|mm|ss`, where `h` is hours, `m` is minutes, and `s` is seconds. These are positive or null integers. The individual time substrings in the input string are separated by \", \" (a comma followed by a space).\n",
        "\n",
        "Your goal is to calculate and return three key statistics for the team: **range, average** (mean), and **median**.\n",
        "\n",
        "Definitions:\n",
        "* **Range**: The difference between the lowest and highest values in a dataset. For example, in {4, 6, 9, 3, 7}, the lowest value is 3, and the highest is 9, so the range is 9−3=6.\n",
        "* **Mean** (Average): To calculate mean, add together all of the numbers and then divide the sum by the total count of numbers.\n",
        "* **Median**: In statistics, the median is the number separating the higher half of a data sample from the lower half.\n",
        " * The median of a finite list of numbers can be found by arranging all the observations from lowest value to highest value and picking the middle one (e.g., the median of 3, 3, 5, 9, 11 is 5) when there is an odd number of observations.\n",
        " * If there is an even number of observations, then there is no single middle value; the median is then defined to be the mean of the two middle values (e.g., the median of {3, 5, 6, 9} is (5+6)/2=5.5).\n",
        "\n",
        "### Output Format:\n",
        "The final output must be a string formatted as follows:\n",
        "`\"Range: hh|mm|ss Average: hh|mm|ss Median: hh|mm|ss\"`\n",
        "where hh, mm, ss are integers (represented by strings) with each 2 digits.\n",
        "\n",
        "### Important Remarks:\n",
        "If a result in seconds is `ab.xy...` it will be given truncated as `ab`.\n",
        "If the given string is `\"\"` you will return `\"\"`."
      ]
    },
    {
      "cell_type": "code",
      "execution_count": null,
      "metadata": {
        "id": "SDkEZM0lxpB3"
      },
      "outputs": [],
      "source": [
        "import math\n",
        "\n",
        "def stat(strg):\n",
        "    # Remark 2: if the given string is \"\" you will return \"\" [cite: 10]\n",
        "    if not strg:\n",
        "        return \"\"\n",
        "\n",
        "    # Each time you get a string of all race results of every team who has run. [cite: 2]\n",
        "    # Substrings in the input string are separated by \", \"\n",
        "    times_str_list = strg.split(\", \")\n",
        "    times_in_seconds = []\n",
        "\n",
        "    for t_str in times_str_list:\n",
        "        # Each part of the string is of the form: h|m|s where h, m, s (h for hour, m for minutes, s for seconds) are\n",
        "        # positive or null integer (represented as strings) with one or two digits.\n",
        "        parts = t_str.split('|')\n",
        "        h = int(parts[0])\n",
        "        m = int(parts[1])\n",
        "        s = int(parts[2])\n",
        "        total_seconds = h * 3600 + m * 60 + s\n",
        "        times_in_seconds.append(total_seconds)\n",
        "\n",
        "    times_in_seconds.sort() # Arranging all the observations from lowest value to highest value\n",
        "\n",
        "    n = len(times_in_seconds)\n",
        "\n",
        "    # Calculate Range\n",
        "    # Range: difference between the lowest and highest values. [cite: 3]\n",
        "    range_seconds = times_in_seconds[-1] - times_in_seconds[0]\n",
        "\n",
        "    # Calculate Average\n",
        "    # Mean or Average: To calculate mean, add together all of the numbers and then divide the sum by the total count of numbers.\n",
        "    # Remark 1: if a result in seconds is ab.xy... it will be given truncated as ab. [cite: 9]\n",
        "    avg_seconds = math.trunc(sum(times_in_seconds) / n)\n",
        "\n",
        "    # Calculate Median\n",
        "    # Median: In statistics, the median is the number separating the higher half of a data sample from the lower half.\n",
        "    median_seconds = 0\n",
        "    if n % 2 == 1:\n",
        "        # The median of a finite list of numbers can be found by arranging all the observations from lowest\n",
        "        # value to highest value and picking the middle one [cite: 5]\n",
        "        median_seconds = times_in_seconds[n // 2]\n",
        "    else:\n",
        "        # If there is an even number of observations, then there is no single middle value;\n",
        "        # the median is then defined to be the mean of the two middle values [cite: 5, 6]\n",
        "        # Remark 1: if a result in seconds is ab.xy... it will be given truncated as ab. [cite: 9]\n",
        "        mid1 = times_in_seconds[n // 2 - 1]\n",
        "        mid2 = times_in_seconds[n // 2]\n",
        "        median_seconds = math.trunc((mid1 + mid2) / 2)\n",
        "\n",
        "    def format_time(seconds_val):\n",
        "        # Remark 1: if a result in seconds is ab.xy... it will be given truncated as ab. [cite: 9]\n",
        "        # This truncation should apply to the final second component, not necessarily intermediate h, m.\n",
        "        # The problem implies truncation for the *result in seconds* before formatting.\n",
        "        # However, the formatting to hh|mm|ss itself implies integer values for h, m, s.\n",
        "        # Let's ensure s is truncated if seconds_val itself was a float due to median calculation,\n",
        "        # although our median calculation already truncates.\n",
        "\n",
        "        s = math.trunc(seconds_val % 60)\n",
        "        m = math.trunc((seconds_val // 60) % 60)\n",
        "        h = math.trunc(seconds_val // 3600)\n",
        "        # where hh, mm, ss are integers (represented by strings) with each 2 digits. [cite: 8]\n",
        "        return f\"{int(h):02d}|{int(m):02d}|{int(s):02d}\"\n",
        "\n",
        "    range_formatted = format_time(range_seconds)\n",
        "    avg_formatted = format_time(avg_seconds)\n",
        "    median_formatted = format_time(median_seconds)\n",
        "\n",
        "    # Your task is to return a string giving these 3 values. [cite: 7]\n",
        "    # of the form: \"Range: hh mm ss Average: hh mm ss Median: hh mm ss\" [cite: 8]\n",
        "    # The example output in the problem description is \"Range: 00/47/18 Average: 01/35/15 Median: 01/32/34\" [cite: 8]\n",
        "    # but test cases use '|'. We will follow the test cases and the hh|mm|ss format.\n",
        "    return f\"Range: {range_formatted} Average: {avg_formatted} Median: {median_formatted}\""
      ]
    },
    {
      "cell_type": "markdown",
      "metadata": {
        "id": "xVqA2lsSxqw5"
      },
      "source": [
        "## Testing in Codewars Platform\n",
        "The following code block contains the test cases. For standalone execution outside a Codewars/Jupyter environment, a simple mock for `codewars_test` is included."
      ]
    },
    {
      "cell_type": "code",
      "execution_count": null,
      "metadata": {
        "colab": {
          "base_uri": "https://localhost:8080/",
          "height": 263
        },
        "id": "rDsLlNYUx-BS",
        "outputId": "2a5eb2dc-0353-4b63-aa95-06001299d1c4"
      },
      "outputs": [
        {
          "name": "stdout",
          "output_type": "stream",
          "text": [
            "codewars_test module not found. Using a mock for testing.\n",
            "\n",
            "Fixed Tests\n"
          ]
        },
        {
          "ename": "TypeError",
          "evalue": "'Test' object is not callable",
          "output_type": "error",
          "traceback": [
            "\u001b[0;31m---------------------------------------------------------------------------\u001b[0m",
            "\u001b[0;31mTypeError\u001b[0m                                 Traceback (most recent call last)",
            "\u001b[0;32m<ipython-input-2-15bde40db26e>\u001b[0m in \u001b[0;36m<cell line: 0>\u001b[0;34m()\u001b[0m\n\u001b[1;32m     37\u001b[0m \u001b[0;34m\u001b[0m\u001b[0m\n\u001b[1;32m     38\u001b[0m \u001b[0;34m\u001b[0m\u001b[0m\n\u001b[0;32m---> 39\u001b[0;31m \u001b[0;34m@\u001b[0m\u001b[0mtest\u001b[0m\u001b[0;34m.\u001b[0m\u001b[0mdescribe\u001b[0m\u001b[0;34m(\u001b[0m\u001b[0;34m\"Fixed Tests\"\u001b[0m\u001b[0;34m)\u001b[0m\u001b[0;34m\u001b[0m\u001b[0;34m\u001b[0m\u001b[0m\n\u001b[0m\u001b[1;32m     40\u001b[0m \u001b[0;32mdef\u001b[0m \u001b[0mfixed_tests\u001b[0m\u001b[0;34m(\u001b[0m\u001b[0;34m)\u001b[0m\u001b[0;34m:\u001b[0m\u001b[0;34m\u001b[0m\u001b[0;34m\u001b[0m\u001b[0m\n\u001b[1;32m     41\u001b[0m     \u001b[0;34m@\u001b[0m\u001b[0mtest\u001b[0m\u001b[0;34m.\u001b[0m\u001b[0mit\u001b[0m\u001b[0;34m(\u001b[0m\u001b[0;34m'Basic Test Cases'\u001b[0m\u001b[0;34m)\u001b[0m\u001b[0;34m\u001b[0m\u001b[0;34m\u001b[0m\u001b[0m\n",
            "\u001b[0;31mTypeError\u001b[0m: 'Test' object is not callable"
          ]
        }
      ],
      "source": [
        "# Mocking codewars_test for standalone execution if not in Codewars environment\n",
        "class Test:\n",
        "    def __init__(self):\n",
        "        self.descriptions = []\n",
        "\n",
        "    def describe(self, description):\n",
        "        print(f\"\\n{description}\")\n",
        "        self.descriptions.append(description)\n",
        "        return self # Allow chaining\n",
        "\n",
        "    def it(self, description):\n",
        "        print(f\"  {description}\")\n",
        "        self.descriptions.append(description)\n",
        "        return self # Allow chaining\n",
        "\n",
        "    def _format_output(self, actual, expected):\n",
        "        return f\"Expected: {expected}, Actual: {actual}\"\n",
        "\n",
        "    def assert_equals(self, actual, expected, message=None):\n",
        "        if actual == expected:\n",
        "            print(f\"    \\033[92mPASSED\\033[0m\")\n",
        "        else:\n",
        "            error_msg = f\"    \\033[91mFAILED\\033[0m: Expected '{expected}', but got '{actual}'\"\n",
        "            if message:\n",
        "                error_msg += f\" - {message}\"\n",
        "            print(error_msg)\n",
        "        # Reset descriptions for the next top-level describe\n",
        "        if len(self.descriptions) > 0 and self.descriptions[0] == \"Fixed Tests\" and self.descriptions[-1] != \"Fixed Tests\":\n",
        "             pass # Keep inner descriptions until new @test.describe\n",
        "\n",
        "# If 'codewars_test' is not available, use the mock.\n",
        "try:\n",
        "    import codewars_test as test\n",
        "except ImportError:\n",
        "    print(\"codewars_test module not found. Using a mock for testing.\")\n",
        "    test = Test()\n",
        "\n",
        "\n",
        "@test.describe(\"Fixed Tests\")\n",
        "def fixed_tests():\n",
        "    @test.it('Basic Test Cases')\n",
        "    def basic_test_cases():\n",
        "        test.assert_equals(stat(\"01|15|59, 1|47|16, 01|17|20, 1|32|34, 2|17|17\"),\n",
        "                            \"Range: 01|01|18 Average: 01|38|05 Median: 01|32|34\")\n",
        "        test.assert_equals(stat(\"02|15|59, 2|47|16, 02|17|20, 2|32|34, 2|17|17, 2|22|00, 2|31|41\"),\n",
        "                            \"Range: 00|31|17 Average: 02|26|18 Median: 02|22|00\")\n",
        "        # Test case for even number of observations\n",
        "        test.assert_equals(stat(\"02|15|59, 2|47|16, 02|17|20, 2|32|34, 2|32|34, 2|17|17\"),\n",
        "                            \"Range: 00|31|17 Average: 02|27|10 Median: 02|24|57\")\n",
        "        test.assert_equals(stat(\"0|15|59, 0|16|16, 0|17|20, 0|22|34, 0|19|34, 0|15|0\"),\n",
        "                            \"Range: 00|07|34 Average: 00|17|47 Median: 00|16|48\")\n",
        "        test.assert_equals(stat(\"11|15|59, 10|16|16, 12|17|20, 9|22|34, 13|19|34, 11|15|17, 11|22|00, 10|26|37, 12|17|48, 9|16|30, 12|20|14, 11|25|11\"),\n",
        "                            \"Range: 04|03|04 Average: 11|14|36 Median: 11|18|59\")\n",
        "        test.assert_equals(stat(\"1|15|59, 1|16|16, 1|17|20, 1|22|34, 1|19|34, 1|15|17, 1|22|00, 1|26|37, 1|17|48, 1|16|30, 1|20|14, 1|25|11\"),\n",
        "                            \"Range: 00|11|20 Average: 01|19|36 Median: 01|18|41\")\n",
        "        # Test for empty string input [cite: 10]\n",
        "        test.assert_equals(stat(\"\"), \"\")\n",
        "        # Test based on the example string from the description[cite: 3], adapted to consistent formatting\n",
        "        # Original: \"01/15/59, 1/47/6, 01/17/20, 1/32 34, 2/3/17\"\n",
        "        # Adapted: \"01|15|59, 1|47|06, 01|17|20, 1|32|34, 02|03|17\"\n",
        "        # Expected output from description: \"Range: 00/47/18 Average: 01/35/15 Median: 01/32/34\" [cite: 8]\n",
        "        # Adapting expected output to match '|' separator and format\n",
        "        test.assert_equals(stat(\"01|15|59, 1|47|06, 01|17|20, 1|32|34, 02|03|17\"),\n",
        "                            \"Range: 00|47|18 Average: 01|35|15 Median: 01|32|34\")\n",
        "\n",
        "# Run the tests\n",
        "fixed_tests()"
      ]
    },
    {
      "cell_type": "markdown",
      "metadata": {
        "id": "IOKG9KFZ0NV5"
      },
      "source": [
        "### Coba test outside Codewars Platform\n",
        "bcs `codewars.test` tidak tersedia secara public\n",
        "sebagai gantinya here we gonna use `unittest`"
      ]
    },
    {
      "cell_type": "code",
      "execution_count": null,
      "metadata": {
        "colab": {
          "base_uri": "https://localhost:8080/",
          "height": 297
        },
        "id": "115MHsYm0hlR",
        "outputId": "1f61c194-57d8-4d8b-8769-e5cfc2595b78"
      },
      "outputs": [
        {
          "name": "stderr",
          "output_type": "stream",
          "text": [
            "E\n",
            "======================================================================\n",
            "ERROR: /root/ (unittest.loader._FailedTest./root/)\n",
            "----------------------------------------------------------------------\n",
            "AttributeError: module '__main__' has no attribute '/root/'\n",
            "\n",
            "----------------------------------------------------------------------\n",
            "Ran 1 test in 0.002s\n",
            "\n",
            "FAILED (errors=1)\n"
          ]
        },
        {
          "ename": "SystemExit",
          "evalue": "True",
          "output_type": "error",
          "traceback": [
            "An exception has occurred, use %tb to see the full traceback.\n",
            "\u001b[0;31mSystemExit\u001b[0m\u001b[0;31m:\u001b[0m True\n"
          ]
        },
        {
          "name": "stderr",
          "output_type": "stream",
          "text": [
            "/usr/local/lib/python3.11/dist-packages/IPython/core/interactiveshell.py:3561: UserWarning: To exit: use 'exit', 'quit', or Ctrl-D.\n",
            "  warn(\"To exit: use 'exit', 'quit', or Ctrl-D.\", stacklevel=1)\n"
          ]
        }
      ],
      "source": [
        "import unittest\n",
        "\n",
        "# Fungsi yang akan diuji\n",
        "def tambah(a, b):\n",
        "    return a + b\n",
        "\n",
        "# Membuat kelas pengujian\n",
        "class TestTambah(unittest.TestCase):\n",
        "    def test_case(self):\n",
        "        self.assertEqual(tambah(2, 3), 5)\n",
        "        self.assertEqual(tambah(0, 0), 0)\n",
        "\n",
        "# Menjalankan pengujian\n",
        "if __name__ == '__main__':\n",
        "    unittest.main()\n"
      ]
    },
    {
      "cell_type": "markdown",
      "metadata": {},
      "source": [
        "## Testing in Codewar Platform\n",
        "Access this link to test https://www.codewars.com/kata/55b3425df71c1201a800009c"
      ]
    }
  ],
  "metadata": {
    "colab": {
      "provenance": []
    },
    "kernelspec": {
      "display_name": "Python 3",
      "name": "python3"
    },
    "language_info": {
      "name": "python"
    }
  },
  "nbformat": 4,
  "nbformat_minor": 0
}
